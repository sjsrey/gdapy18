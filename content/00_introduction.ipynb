{
 "cells": [
  {
   "cell_type": "markdown",
   "metadata": {},
   "source": [
    "# Spatial Data Analysis with PySAL \n",
    "\n",
    "\n",
    "Authors: Sergio Rey \n"
   ]
  },
  {
   "cell_type": "markdown",
   "metadata": {},
   "source": [
    "# PySAL: Python Spatial Analysis Library\n",
    "\n",
    "\n",
    "\n",
    "## Origins and Objectives\n",
    "\n",
    "- Leverage Existing Tools Development\n",
    "\n",
    "    - GeoDa/PySpace\n",
    "    - STARS\n",
    "\n",
    "- Develop Core Library\n",
    "\n",
    "    - spatial data *analytical* functions\n",
    "    - enhanced specialization and modularity\n",
    "    - fill *void* in geospatial Python libraries\n",
    "    \n",
    "- Flexible Delivery Mechanisms\n",
    "\n",
    "    - interactive shell\n",
    "    - GUI\n",
    "    - Toolkits\n",
    "    - webservices\n",
    "\n",
    "\n"
   ]
  },
  {
   "cell_type": "markdown",
   "metadata": {},
   "source": [
    "## Components\n",
    "![PySAL](figures/pysalgraph.png)\n",
    "\n",
    "\n"
   ]
  },
  {
   "cell_type": "markdown",
   "metadata": {},
   "source": [
    "## Delivery Mechanisms\n",
    "\n",
    "### Interactive Shell: iPython Notebook\n",
    "![pysalipnb](figures/pysalnb.png)"
   ]
  },
  {
   "cell_type": "markdown",
   "metadata": {},
   "source": [
    "### Toolkits: ArcGIS + spreg\n",
    "![arctool](figures/10_arctool.png)"
   ]
  },
  {
   "cell_type": "markdown",
   "metadata": {},
   "source": [
    "### Toolkits: QGIS + pysal\n",
    "![arctool](figures/qgis.png)"
   ]
  },
  {
   "cell_type": "markdown",
   "metadata": {},
   "source": [
    "### Webservices: cgPySAL\n",
    "\n",
    "\n",
    "![cgpysal](figures/cgpysal.png)"
   ]
  },
  {
   "cell_type": "markdown",
   "metadata": {},
   "source": [
    "### GUI: Crime Analytics for Space-Time (CAST)\n",
    "\n",
    "![cast](figures/cast.png)"
   ]
  },
  {
   "cell_type": "markdown",
   "metadata": {},
   "source": [
    "### GUI: GeoDaSpace (PySAL-spreg)\n",
    "![gsgui](figures/gsgui.png)\n",
    "\n",
    "![gsout](figures/gsoutput.png)\n",
    "\n",
    "![weightsviewer](figures/weightsviewer.png)"
   ]
  },
  {
   "cell_type": "markdown",
   "metadata": {},
   "source": [
    "### PySAL Cloud (ipad)\n",
    "![cloud](figures/pysalcloud.png)"
   ]
  },
  {
   "cell_type": "markdown",
   "metadata": {},
   "source": [
    "### Decision Theatre\n",
    "![dt](figures/dt.png)"
   ]
  },
  {
   "cell_type": "markdown",
   "metadata": {},
   "source": [
    "### Start-ups\n",
    "\n",
    "![carto](figures/carto.png)"
   ]
  },
  {
   "cell_type": "markdown",
   "metadata": {},
   "source": [
    "## Team\n",
    "\n",
    "\n",
    "\n",
    "| Serge Rey       | Luc Anselin      |\n",
    "|-----------------|------------------|\n",
    "| Charles Schnidt | David Folch      |\n",
    "| Myunghwa Hwang  | Dani Arribas     |\n",
    "| Phil Stephens   | Julia Koschinsky |\n",
    "| Pedro Amaral    | Nick Malizia     |\n",
    "| Xing Kang       | Xun Li           |\n",
    "| Mark McCann     | Ran Wei          |\n",
    "| Nancy Lozano    | Jing Yao         |\n",
    "| Jay Laura       | Levi Wolf        |\n",
    "| Sizhe Wang      | Wei Kang         |\n",
    "\n",
    "\n",
    "and, contributions from *many* others!\n",
    "\n",
    "\n",
    "\n",
    "## Releases\n",
    "\n",
    "### Six-Month Release Cycle\n",
    "  - 1.0 July 2010\n",
    "  - 1.1 January 2011\n",
    "  - 1.2 July 2011\n",
    "  - 1.3 January 2012\n",
    "  - 1.4 July 2012\n",
    "  - 1.5 January 2013\n",
    "  - 1.6 July 2013\n",
    "  - 1.7 January 2014\n",
    "  - 1.8 July 2014\n",
    "  - 1.9 January 2015\n",
    "  - 1.10 July 2015\n",
    "  - 1.11 January 2016\n",
    "  - 1.12 July 2016\n",
    "  - 1.13 January 2017\n",
    "  - 1.14 July 2017\n",
    "  - **1.14.3 November 2017**\n",
    "  \n",
    "### Scientific Python Distributions\n",
    "\n",
    "#### Anaconda Python Distribution\n",
    "![anaconda](figures/anaconda_pysal.png)\n",
    "\n",
    "#### Enthought Canopy \n",
    "\n",
    "![anaconda](figures/enthought_pysal.png)\n",
    "\n",
    "\n",
    "\n",
    "## Acknowledgements\n",
    "\n",
    "![funding](figures/ack.png)\n",
    "\n",
    "\n",
    "  \n",
    "## Development\n",
    "\n",
    "[![PySAL.org](figures/pysal_org.png)](http://pysal.org)\n",
    "\n",
    "## References\n",
    "\n",
    "1. S. J. Rey. Python Spatial Analysis Library (PySAL): An update and illustration. In C. Brunsdon and A. SIngleton, editors, Geocomputation. Sage, In Press 2014.\n",
    "2. S. J. Rey and L. Anselin. PySAL: A Python library of spatial analytical methods. In M. M. Fischer and A. Getis, editors, Handbook of Applied Spatial Analysis, pages 175–193. Springer, Berlin, 2010.\n",
    "\n",
    "\n"
   ]
  },
  {
   "cell_type": "markdown",
   "metadata": {},
   "source": [
    "[![Book](figures/book.png)](http://pysal.org)"
   ]
  },
  {
   "cell_type": "code",
   "execution_count": null,
   "metadata": {},
   "outputs": [],
   "source": []
  },
  {
   "cell_type": "code",
   "execution_count": null,
   "metadata": {},
   "outputs": [],
   "source": []
  }
 ],
 "metadata": {
  "kernelspec": {
   "display_name": "Python 3",
   "language": "python",
   "name": "python3"
  },
  "language_info": {
   "codemirror_mode": {
    "name": "ipython",
    "version": 3
   },
   "file_extension": ".py",
   "mimetype": "text/x-python",
   "name": "python",
   "nbconvert_exporter": "python",
   "pygments_lexer": "ipython3",
   "version": "3.6.7"
  }
 },
 "nbformat": 4,
 "nbformat_minor": 2
}
